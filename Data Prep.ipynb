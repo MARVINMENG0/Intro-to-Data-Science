{
 "cells": [
  {
   "cell_type": "code",
   "execution_count": 40,
   "metadata": {},
   "outputs": [],
   "source": [
    "#Importing Packages\n",
    "import pandas as pd\n",
    "import numpy as np\n",
    "import os\n",
    "import shutil\n",
    "from random import sample"
   ]
  },
  {
   "cell_type": "code",
   "execution_count": null,
   "metadata": {},
   "outputs": [],
   "source": [
    "#Reading in the train metadata\n",
    "train= pd.read_csv('train.csv')\n",
    "train.groupby('target').count()"
   ]
  },
  {
   "cell_type": "code",
   "execution_count": null,
   "metadata": {
    "scrolled": true
   },
   "outputs": [],
   "source": [
    "train['diagnosis'].value_counts()"
   ]
  },
  {
   "cell_type": "code",
   "execution_count": null,
   "metadata": {},
   "outputs": [],
   "source": [
    "#Creating Sample of Entire Population, disregarding patient id\n",
    "#Creating a smaller sample of training data for initial modeling stage\n",
    "#Sampling at same class distribution as training population\n",
    "\n",
    "m_images_all = train[train['target']==1]\n",
    "ran_m_im = m_images_all.sample(100,random_state=7)\n",
    "ran_m_im_list = ran_m_im['image_name'].values\n",
    "b_images_all = train[train['target']==0]\n",
    "ran_b_im = b_images_all.sample(5572,random_state=7)\n",
    "ran_b_im_list = ran_b_im['image_name'].values"
   ]
  },
  {
   "cell_type": "code",
   "execution_count": null,
   "metadata": {},
   "outputs": [],
   "source": [
    "end ='.jpg'\n",
    "ran_m_im_list_jpg = [x+end for x in ran_m_im_list]\n",
    "ran_b_im_list_jpg = [x+end for x in ran_b_im_list]\n",
    "all_images = ran_m_im_list_jpg + ran_b_im_list_jpg"
   ]
  },
  {
   "cell_type": "code",
   "execution_count": 42,
   "metadata": {},
   "outputs": [
    {
     "ename": "Error",
     "evalue": "Destination path '/Volumes/USB31FD/mini_sample/ISIC_0696150.jpg' already exists",
     "output_type": "error",
     "traceback": [
      "\u001b[0;31m---------------------------------------------------------------------------\u001b[0m",
      "\u001b[0;31mError\u001b[0m                                     Traceback (most recent call last)",
      "\u001b[0;32m<ipython-input-42-454eb1dac06b>\u001b[0m in \u001b[0;36m<module>\u001b[0;34m\u001b[0m\n\u001b[1;32m      7\u001b[0m     \u001b[0;32mfor\u001b[0m \u001b[0mfile\u001b[0m \u001b[0;32min\u001b[0m \u001b[0mos\u001b[0m\u001b[0;34m.\u001b[0m\u001b[0mlistdir\u001b[0m\u001b[0;34m(\u001b[0m\u001b[0mpath\u001b[0m\u001b[0;34m)\u001b[0m\u001b[0;34m:\u001b[0m\u001b[0;34m\u001b[0m\u001b[0;34m\u001b[0m\u001b[0m\n\u001b[1;32m      8\u001b[0m         \u001b[0;32mif\u001b[0m \u001b[0mfile\u001b[0m \u001b[0;32min\u001b[0m \u001b[0mall_images\u001b[0m\u001b[0;34m:\u001b[0m\u001b[0;34m\u001b[0m\u001b[0;34m\u001b[0m\u001b[0m\n\u001b[0;32m----> 9\u001b[0;31m             \u001b[0mshutil\u001b[0m\u001b[0;34m.\u001b[0m\u001b[0mmove\u001b[0m\u001b[0;34m(\u001b[0m\u001b[0mpath\u001b[0m\u001b[0;34m+\u001b[0m\u001b[0;34m'/'\u001b[0m\u001b[0;34m+\u001b[0m\u001b[0mfile\u001b[0m\u001b[0;34m,\u001b[0m\u001b[0mdest\u001b[0m\u001b[0;34m)\u001b[0m\u001b[0;34m\u001b[0m\u001b[0;34m\u001b[0m\u001b[0m\n\u001b[0m",
      "\u001b[0;32m~/opt/anaconda3/lib/python3.8/shutil.py\u001b[0m in \u001b[0;36mmove\u001b[0;34m(src, dst, copy_function)\u001b[0m\n\u001b[1;32m    784\u001b[0m         \u001b[0mreal_dst\u001b[0m \u001b[0;34m=\u001b[0m \u001b[0mos\u001b[0m\u001b[0;34m.\u001b[0m\u001b[0mpath\u001b[0m\u001b[0;34m.\u001b[0m\u001b[0mjoin\u001b[0m\u001b[0;34m(\u001b[0m\u001b[0mdst\u001b[0m\u001b[0;34m,\u001b[0m \u001b[0m_basename\u001b[0m\u001b[0;34m(\u001b[0m\u001b[0msrc\u001b[0m\u001b[0;34m)\u001b[0m\u001b[0;34m)\u001b[0m\u001b[0;34m\u001b[0m\u001b[0;34m\u001b[0m\u001b[0m\n\u001b[1;32m    785\u001b[0m         \u001b[0;32mif\u001b[0m \u001b[0mos\u001b[0m\u001b[0;34m.\u001b[0m\u001b[0mpath\u001b[0m\u001b[0;34m.\u001b[0m\u001b[0mexists\u001b[0m\u001b[0;34m(\u001b[0m\u001b[0mreal_dst\u001b[0m\u001b[0;34m)\u001b[0m\u001b[0;34m:\u001b[0m\u001b[0;34m\u001b[0m\u001b[0;34m\u001b[0m\u001b[0m\n\u001b[0;32m--> 786\u001b[0;31m             \u001b[0;32mraise\u001b[0m \u001b[0mError\u001b[0m\u001b[0;34m(\u001b[0m\u001b[0;34m\"Destination path '%s' already exists\"\u001b[0m \u001b[0;34m%\u001b[0m \u001b[0mreal_dst\u001b[0m\u001b[0;34m)\u001b[0m\u001b[0;34m\u001b[0m\u001b[0;34m\u001b[0m\u001b[0m\n\u001b[0m\u001b[1;32m    787\u001b[0m     \u001b[0;32mtry\u001b[0m\u001b[0;34m:\u001b[0m\u001b[0;34m\u001b[0m\u001b[0;34m\u001b[0m\u001b[0m\n\u001b[1;32m    788\u001b[0m         \u001b[0mos\u001b[0m\u001b[0;34m.\u001b[0m\u001b[0mrename\u001b[0m\u001b[0;34m(\u001b[0m\u001b[0msrc\u001b[0m\u001b[0;34m,\u001b[0m \u001b[0mreal_dst\u001b[0m\u001b[0;34m)\u001b[0m\u001b[0;34m\u001b[0m\u001b[0;34m\u001b[0m\u001b[0m\n",
      "\u001b[0;31mError\u001b[0m: Destination path '/Volumes/USB31FD/mini_sample/ISIC_0696150.jpg' already exists"
     ]
    }
   ],
   "source": [
    "#Accessing USB with images\n",
    "src_path = '/Volumes/USB31FD/jpeg/train'\n",
    "folders = os.listdir('/Volumes/USB31FD/jpeg/train')\n",
    "dest='/Volumes/USB31FD/mini_sample'\n",
    "for folder in folders:\n",
    "    path = os.path.join(src_path,folder)\n",
    "    for file in os.listdir(path):\n",
    "        if file in all_images:\n",
    "            shutil.copy(path+'/'+file,dest)"
   ]
  },
  {
   "cell_type": "code",
   "execution_count": 54,
   "metadata": {},
   "outputs": [
    {
     "data": {
      "text/plain": [
       "33126.0"
      ]
     },
     "execution_count": 54,
     "metadata": {},
     "output_type": "execute_result"
    }
   ],
   "source": [
    "len(os.listdir('/Volumes/USB31FD/jpeg/train/'))/2"
   ]
  },
  {
   "cell_type": "code",
   "execution_count": 53,
   "metadata": {},
   "outputs": [],
   "source": [
    "#Accessing USB with images\n",
    "src_path = '/Volumes/USB31FD/jpeg/train/dir_001'\n",
    "folders = os.listdir('/Volumes/USB31FD/jpeg/train')\n",
    "dest='/Volumes/USB31FD/jpeg/train'\n",
    "#for folder in folders:\n",
    "    #path = os.path.join(src_path,folder)\n",
    "for file in os.listdir(src_path):\n",
    "    if file[0]!='.':\n",
    "        print(file)\n",
    "        shutil.move(src_path+'/'+file,dest)"
   ]
  },
  {
   "cell_type": "code",
   "execution_count": 50,
   "metadata": {},
   "outputs": [
    {
     "data": {
      "text/plain": [
       "31134.5"
      ]
     },
     "execution_count": 50,
     "metadata": {},
     "output_type": "execute_result"
    }
   ],
   "source": [
    "len(os.listdir('/Volumes/USB31FD/jpeg/train'))/2"
   ]
  },
  {
   "cell_type": "code",
   "execution_count": 39,
   "metadata": {},
   "outputs": [
    {
     "data": {
      "text/plain": [
       "0"
      ]
     },
     "execution_count": 39,
     "metadata": {},
     "output_type": "execute_result"
    }
   ],
   "source": [
    "len(all_images)*2-len(os.listdir(dest))"
   ]
  },
  {
   "cell_type": "code",
   "execution_count": null,
   "metadata": {},
   "outputs": [],
   "source": [
    "#Creating Sample based on patient id\n",
    "patients = train.groupby('patient_id').count()"
   ]
  },
  {
   "cell_type": "code",
   "execution_count": null,
   "metadata": {},
   "outputs": [],
   "source": [
    "#Creating a random sample of patients who had a malignant skin lesion image\n",
    "m_patients = train[train['target']==1].groupby('patient_id').count()\n",
    "m_patients.reset_index(inplace=True)\n",
    "ran_mp = m_patients.sample(100,random_state=7)\n",
    "m_ps = ran_mp['patient_id'].values"
   ]
  },
  {
   "cell_type": "code",
   "execution_count": null,
   "metadata": {},
   "outputs": [],
   "source": [
    "#Creating a random sample of patients who did not have a malignant skin lesion \n",
    "#Sampling the same distribution as the entire training set\n",
    "b_patients = train[~train['patient_id'].isin(m_ps)].groupby('patient_id').count()\n",
    "b_patients.reset_index(inplace=True)\n",
    "ran_bp = b_patients.sample(100,random_state=7)\n",
    "b_ps = ran_bp['patient_id'].values\n",
    "ran_bp"
   ]
  },
  {
   "cell_type": "code",
   "execution_count": null,
   "metadata": {},
   "outputs": [],
   "source": [
    "#Storing the patient ids of the samples\n",
    "m_ps = ran_mp['patient_id'].values\n",
    "b_ps = ran_bp['patient_id'].values"
   ]
  },
  {
   "cell_type": "code",
   "execution_count": null,
   "metadata": {},
   "outputs": [],
   "source": [
    "#Grabbing the relevant subset of image files\n",
    "m_image_df = train[train['patient_id'].isin(m_ps)]\n",
    "b_image_df = train[train['patient_id'].isin(b_ps)]\n",
    "m_images = m_image_df['patient_id'].values\n",
    "b_images = b_image_df['patient_id'].values"
   ]
  },
  {
   "cell_type": "code",
   "execution_count": null,
   "metadata": {},
   "outputs": [],
   "source": [
    "all_images = np.append(b_images,m_images)\n",
    "all_images_test=all_images[0:10]\n",
    "all_images_test"
   ]
  },
  {
   "cell_type": "code",
   "execution_count": null,
   "metadata": {
    "scrolled": true
   },
   "outputs": [],
   "source": [
    "#Accessing USB with images\n",
    "folders = os.listdir('/Volumes/USB31FD/jpeg/train')\n",
    "folders"
   ]
  },
  {
   "cell_type": "code",
   "execution_count": null,
   "metadata": {},
   "outputs": [],
   "source": [
    "src_path = '/Volumes/USB31FD/jpeg/train'\n",
    "dest_path='/Volumes/USB31FD/jpeg/train2'\n",
    "yoyo='/Users/gmurphy794/Documents/NYU/First Semester/Prob Stats'\n",
    "\n",
    "i=0\n",
    "\n",
    "for folder in folders:\n",
    "    path = os.path.join(src_path,folder)\n",
    "    for file in os.listdir(path):\n",
    "        if os.path.basename(file) in all_images_test:\n",
    "            print(os.path.basename(file))"
   ]
  },
  {
   "cell_type": "code",
   "execution_count": null,
   "metadata": {},
   "outputs": [],
   "source": [
    "yoyo='/Users/gmurphy794/Documents/NYU/First Semester/Prob Stats'\n",
    "dest='/Users/gmurphy794/Documents/NYU/First Semester/dummy_folder'\n",
    "folders2 = os.listdir(yoyo)\n",
    "my_files = []\n",
    "for folder in folders2:\n",
    "    path = os.path.join(yoyo,folder)\n",
    "    try:\n",
    "        for file in os.listdir(path):\n",
    "            if file in dummy_list:\n",
    "                print(file)\n",
    "                shutil.copy(path+'/'+file,dest)\n",
    "    except:NotADirectoryError\n",
    "os.listdir(dest)"
   ]
  },
  {
   "cell_type": "code",
   "execution_count": null,
   "metadata": {},
   "outputs": [],
   "source": [
    "dummy_list = sample(my_files,10)\n",
    "dummy_list"
   ]
  },
  {
   "cell_type": "code",
   "execution_count": null,
   "metadata": {},
   "outputs": [],
   "source": [
    "i=0\n",
    "for file in os.listdir(path):\n",
    "    if i<11:\n",
    "        if file in all_images_test:\n",
    "            print('Yes')\n",
    "            i+=1\n",
    "        else:\n",
    "            print()\n",
    "            i+=1"
   ]
  },
  {
   "cell_type": "code",
   "execution_count": null,
   "metadata": {},
   "outputs": [],
   "source": [
    "#Create"
   ]
  }
 ],
 "metadata": {
  "kernelspec": {
   "display_name": "Python 3",
   "language": "python",
   "name": "python3"
  },
  "language_info": {
   "codemirror_mode": {
    "name": "ipython",
    "version": 3
   },
   "file_extension": ".py",
   "mimetype": "text/x-python",
   "name": "python",
   "nbconvert_exporter": "python",
   "pygments_lexer": "ipython3",
   "version": "3.8.3"
  }
 },
 "nbformat": 4,
 "nbformat_minor": 4
}
